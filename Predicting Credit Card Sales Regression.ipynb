{
 "cells": [
  {
   "cell_type": "code",
   "execution_count": 1,
   "metadata": {},
   "outputs": [],
   "source": [
    "import pandas as pd\n",
    "from pandas import Series, DataFrame\n",
    "import matplotlib.pyplot as plt\n",
    "import numpy as np\n",
    "%matplotlib inline\n",
    "import seaborn as sns"
   ]
  },
  {
   "cell_type": "code",
   "execution_count": 2,
   "metadata": {},
   "outputs": [
    {
     "name": "stderr",
     "output_type": "stream",
     "text": [
      "C:\\ProgramData\\Anaconda3\\lib\\site-packages\\sklearn\\cross_validation.py:41: DeprecationWarning: This module was deprecated in version 0.18 in favor of the model_selection module into which all the refactored classes and functions are moved. Also note that the interface of the new CV iterators are different from that of this module. This module will be removed in 0.20.\n",
      "  \"This module will be removed in 0.20.\", DeprecationWarning)\n"
     ]
    }
   ],
   "source": [
    "from sklearn.preprocessing import imputation\n",
    "from sklearn.preprocessing import StandardScaler\n",
    "from sklearn.cross_validation import train_test_split\n",
    "from sklearn.decomposition import PCA\n",
    "from sklearn.manifold import TSNE\n",
    "from sklearn.cluster import KMeans, DBSCAN\n",
    "from sklearn.linear_model import LinearRegression, Lasso, Ridge, ElasticNet\n",
    "from sklearn.svm import SVR\n",
    "from sklearn.neighbors import KNeighborsRegressor\n",
    "from sklearn.ensemble import AdaBoostRegressor, GradientBoostingRegressor\n",
    "from sklearn.metrics import mean_absolute_error, mean_squared_error"
   ]
  },
  {
   "cell_type": "code",
   "execution_count": 3,
   "metadata": {},
   "outputs": [],
   "source": [
    "CC_regression=pd.read_excel('C:/Python Submission/Regression/Credit Card Data.xlsx')"
   ]
  },
  {
   "cell_type": "markdown",
   "metadata": {},
   "source": [
    "# Saving numeric data and object type  vars seperately"
   ]
  },
  {
   "cell_type": "code",
   "execution_count": 4,
   "metadata": {},
   "outputs": [],
   "source": [
    "CC_regression_num=CC_regression._get_numeric_data()\n",
    "CC_regression_cat=CC_regression.select_dtypes(include=['object'])"
   ]
  },
  {
   "cell_type": "markdown",
   "metadata": {},
   "source": [
    "# Creating audit report usng a general function that returns mutiple values"
   ]
  },
  {
   "cell_type": "code",
   "execution_count": 5,
   "metadata": {},
   "outputs": [],
   "source": [
    "def var_summary(x):\n",
    "    return pd.Series([x.count(), x.isnull().sum(), x.sum(), x.mean(), x.median(),  x.std(), x.var(), x.min(), x.dropna().quantile(0.01), x.dropna().quantile(0.05),x.dropna().quantile(0.10),x.dropna().quantile(0.25),x.dropna().quantile(0.50),x.dropna().quantile(0.75), x.dropna().quantile(0.90),x.dropna().quantile(0.95), x.dropna().quantile(0.99),x.max()], \n",
    "                  index=['N', 'NMISS', 'SUM', 'MEAN','MEDIAN', 'STD', 'VAR', 'MIN', 'P1' , 'P5' ,'P10' ,'P25' ,'P50' ,'P75' ,'P90' ,'P95' ,'P99' ,'MAX'])\n",
    "\n",
    "num_summary=CC_regression_num.apply(lambda x: var_summary(x)).T"
   ]
  },
  {
   "cell_type": "markdown",
   "metadata": {},
   "source": [
    "# Creating categorical summary"
   ]
  },
  {
   "cell_type": "code",
   "execution_count": 6,
   "metadata": {},
   "outputs": [],
   "source": [
    "def cat_summary(x):\n",
    "    return pd.Series([x.count(), x.isnull().sum(), x.value_counts()], \n",
    "                  index=['N', 'NMISS', 'ColumnsNames'])\n",
    "\n",
    "cat_summary=CC_regression_cat.apply(lambda x: cat_summary(x))"
   ]
  },
  {
   "cell_type": "markdown",
   "metadata": {},
   "source": [
    "# exporting the above data as it can be useful for mean value imputation and outlier treatment"
   ]
  },
  {
   "cell_type": "code",
   "execution_count": 7,
   "metadata": {},
   "outputs": [],
   "source": [
    "num_summary.to_csv('num_summary.csv')\n",
    "cat_summary.to_csv('cat_summary.csv')"
   ]
  },
  {
   "cell_type": "markdown",
   "metadata": {},
   "source": [
    "### Variables- lnwireten lnwiremon lnequipmon lnequipten lntollten lntollmon lncardten lncardmon have significant number of missing values there dropping these variables."
   ]
  },
  {
   "cell_type": "code",
   "execution_count": 8,
   "metadata": {},
   "outputs": [],
   "source": [
    "CC_regression.drop([\"lnwireten\",\"lnwiremon\",\"lnequipmon\",\"lnequipten\",\"lntollten\",\"lntollmon\",\"lncardten\",\"lncardmon\"],\n",
    "                axis=1,inplace=True)"
   ]
  },
  {
   "cell_type": "markdown",
   "metadata": {},
   "source": [
    "# Combining variables to create the Y variable"
   ]
  },
  {
   "cell_type": "code",
   "execution_count": 9,
   "metadata": {},
   "outputs": [],
   "source": [
    "CC_regression['totalcard_spend']=CC_regression['cardspent']+CC_regression['card2spent']"
   ]
  },
  {
   "cell_type": "markdown",
   "metadata": {},
   "source": [
    "## Boxpplot and Graph of the Y Variableto check if log transformation or Outlier treatment is required or not"
   ]
  },
  {
   "cell_type": "code",
   "execution_count": 10,
   "metadata": {},
   "outputs": [
    {
     "data": {
      "image/png": "[encoded data removed]",
      "text/plain": [
       "<matplotlib.figure.Figure at 0xc60fba8>"
      ]
     },
     "metadata": {},
     "output_type": "display_data"
    }
   ],
   "source": [
    "plt.boxplot(CC_regression['totalcard_spend'].values,sym='gD');"
   ]
  },
  {
   "cell_type": "code",
   "execution_count": 11,
   "metadata": {},
   "outputs": [
    {
     "data": {
      "text/plain": [
       "<matplotlib.axes._subplots.AxesSubplot at 0xb678cf8>"
      ]
     },
     "execution_count": 11,
     "metadata": {},
     "output_type": "execute_result"
    },
    {
     "data": {
      "image/png": "[encoded data removed]",
      "text/plain": [
       "<matplotlib.figure.Figure at 0xe0c7a58>"
      ]
     },
     "metadata": {},
     "output_type": "display_data"
    }
   ],
   "source": [
    "CC_regression['totalcard_spend'].hist(bins=50)"
   ]
  },
  {
   "cell_type": "code",
   "execution_count": 12,
   "metadata": {},
   "outputs": [],
   "source": [
    "# Taking log of the Y variable"
   ]
  },
  {
   "cell_type": "code",
   "execution_count": 13,
   "metadata": {},
   "outputs": [],
   "source": [
    "CC_regression[\"ln_totalcard_spend\"]= np.log(CC_regression[\"totalcard_spend\"]+1)"
   ]
  },
  {
   "cell_type": "markdown",
   "metadata": {},
   "source": [
    "# Graph of the log_Y Variable for comparison"
   ]
  },
  {
   "cell_type": "code",
   "execution_count": 14,
   "metadata": {},
   "outputs": [
    {
     "data": {
      "text/plain": [
       "<matplotlib.axes._subplots.AxesSubplot at 0xcb9b908>"
      ]
     },
     "execution_count": 14,
     "metadata": {},
     "output_type": "execute_result"
    },
    {
     "data": {
      "image/png": "[encoded data removed]",
      "text/plain": [
       "<matplotlib.figure.Figure at 0xcbd3828>"
      ]
     },
     "metadata": {},
     "output_type": "display_data"
    }
   ],
   "source": [
    "CC_regression['ln_totalcard_spend'].hist(bins=50)"
   ]
  },
  {
   "cell_type": "markdown",
   "metadata": {},
   "source": [
    "# Outlier treatment on Y variable"
   ]
  },
  {
   "cell_type": "code",
   "execution_count": 15,
   "metadata": {},
   "outputs": [
    {
     "data": {
      "text/plain": [
       "7.473695119786394"
      ]
     },
     "execution_count": 15,
     "metadata": {},
     "output_type": "execute_result"
    }
   ],
   "source": [
    "CC_regression['ln_totalcard_spend'].quantile(0.99)"
   ]
  },
  {
   "cell_type": "code",
   "execution_count": 16,
   "metadata": {},
   "outputs": [],
   "source": [
    "CC_regression['ln_totalcard_spend']= CC_regression['ln_totalcard_spend'].clip_upper(CC_regression['ln_totalcard_spend'].quantile(0.99)) \n",
    "CC_regression['ln_totalcard_spend']= CC_regression['ln_totalcard_spend'].clip_lower(CC_regression['ln_totalcard_spend'].quantile(0.01)) \n"
   ]
  },
  {
   "cell_type": "markdown",
   "metadata": {},
   "source": [
    "# Boxpplot of Y variable for comparison"
   ]
  },
  {
   "cell_type": "code",
   "execution_count": 17,
   "metadata": {},
   "outputs": [
    {
     "data": {
      "text/plain": [
       "{'boxes': [<matplotlib.lines.Line2D at 0xbb20048>],\n",
       " 'caps': [<matplotlib.lines.Line2D at 0xbb20a58>,\n",
       "  <matplotlib.lines.Line2D at 0xbb20e80>],\n",
       " 'fliers': [<matplotlib.lines.Line2D at 0xbb3b710>],\n",
       " 'means': [],\n",
       " 'medians': [<matplotlib.lines.Line2D at 0xbb3b2e8>],\n",
       " 'whiskers': [<matplotlib.lines.Line2D at 0xbb20198>,\n",
       "  <matplotlib.lines.Line2D at 0xbb20630>]}"
      ]
     },
     "execution_count": 17,
     "metadata": {},
     "output_type": "execute_result"
    },
    {
     "data": {
      "image/png": "[encoded data removed]",
      "text/plain": [
       "<matplotlib.figure.Figure at 0xc614f60>"
      ]
     },
     "metadata": {},
     "output_type": "display_data"
    }
   ],
   "source": [
    "plt.boxplot(CC_regression['ln_totalcard_spend'].values,sym='gD')"
   ]
  },
  {
   "cell_type": "markdown",
   "metadata": {},
   "source": [
    "# Dropping variable used to create the Y variable"
   ]
  },
  {
   "cell_type": "code",
   "execution_count": 18,
   "metadata": {},
   "outputs": [],
   "source": [
    "CC_regression=CC_regression.drop(['cardspent','card2spent'],axis=1)"
   ]
  },
  {
   "cell_type": "markdown",
   "metadata": {},
   "source": [
    "# After analyzing the audit report, doing mean value imputation on the variabe with missing values"
   ]
  },
  {
   "cell_type": "code",
   "execution_count": 19,
   "metadata": {},
   "outputs": [],
   "source": [
    "CC_regression['lncreddebt']=CC_regression['lncreddebt'].fillna(CC_regression['lncreddebt'].mean())\n",
    "CC_regression['lnothdebt']=CC_regression['lnothdebt'].fillna(CC_regression['lnothdebt'].mean())\n",
    "CC_regression['commutetime']=CC_regression['commutetime'].fillna(CC_regression['commutetime'].mean())\n",
    "CC_regression['longten']=CC_regression['longten'].fillna(CC_regression['longten'].mean())\n",
    "CC_regression['lnlongten']=CC_regression['lnlongten'].fillna(CC_regression['lnlongten'].mean())\n",
    "CC_regression['cardten']=CC_regression['cardten'].fillna(CC_regression['cardten'].mean())"
   ]
  },
  {
   "cell_type": "markdown",
   "metadata": {},
   "source": [
    "# Droppimg unnecessary variables"
   ]
  },
  {
   "cell_type": "code",
   "execution_count": 20,
   "metadata": {},
   "outputs": [],
   "source": [
    "col_list_drop=['birthmonth','employ','address','cartype','commute','commutecar','commutemotorcycle',\n",
    "              'commutecarpool','commutebus','commuterail','commutepublic','commutebike','commutewalk','commutenonmotor','telecommute',\n",
    "               'bfast','townsize','union','jobsat',\n",
    "                  'spousedcat','cars','carcatvalue','carown','commutecat','reason',\n",
    "                  'polview','polcontrib','polparty','vote','cardbenefit','cardfee',\n",
    "                  'card2type','card2benefit','card2fee','active',\n",
    "                 'churn','tollfree','equip','callcard','wireless','multline','voice','pager','internet','callid','callwait',\n",
    "                  'forward','confer','owntv','ownvcr','owndvd','owncd','ownpda','ownpc','ownipod','owngame','ownfax','news',\n",
    "                 'response_01','response_02','response_03','carbuy','carbought']"
   ]
  },
  {
   "cell_type": "code",
   "execution_count": 21,
   "metadata": {},
   "outputs": [],
   "source": [
    "CC_regression1=CC_regression.drop(col_list_drop,axis=1)"
   ]
  },
  {
   "cell_type": "markdown",
   "metadata": {},
   "source": [
    "#  Saving categorical data , continious and Y variable seperately "
   ]
  },
  {
   "cell_type": "code",
   "execution_count": 22,
   "metadata": {},
   "outputs": [],
   "source": [
    "categorical_fields=['agecat','gender','edcat','jobcat','retire',\"default\",\"marital\",\"cardtenurecat\",\"card2tenurecat\",\n",
    "                  \"hometype\", \"addresscat\",'card','inccat','card2','region','empcat','addresscat','homeown', \"ebill\",\n",
    "                    \"cardtype\"]"
   ]
  },
  {
   "cell_type": "code",
   "execution_count": 23,
   "metadata": {},
   "outputs": [],
   "source": [
    "numerical_fields = [\"age\",\"ed\",\"income\",\"lninc\",\"debtinc\",\"creddebt\",\"lncreddebt\",\"othdebt\",\n",
    "                 \"lnothdebt\",\"spoused\",\"reside\",\"pets\",\"pets_cats\",\"pets_dogs\",\"pets_birds\",\"pets_reptiles\",\n",
    "                 \"pets_small\",\"pets_saltfish\",\"pets_freshfish\",\"carvalue\",\"commutetime\",\"carditems\",\n",
    "                 \"card2items\",\"tenure\",\"longmon\",\"lnlongmon\",\"longten\",\"lnlongten\",\"tollmon\",\"tollten\",\n",
    "                  \"equipmon\",\"equipten\",\"cardmon\",\"cardten\",\"wiremon\",\"wireten\",\"hourstv\"]"
   ]
  },
  {
   "cell_type": "code",
   "execution_count": 24,
   "metadata": {},
   "outputs": [],
   "source": [
    "Target = ['ln_totalcard_spend']"
   ]
  },
  {
   "cell_type": "markdown",
   "metadata": {},
   "source": [
    "# Dummy variable creation"
   ]
  },
  {
   "cell_type": "code",
   "execution_count": 25,
   "metadata": {},
   "outputs": [
    {
     "data": {
      "text/html": [
       "<div>\n",
       "<style scoped>\n",
       "    .dataframe tbody tr th:only-of-type {\n",
       "        vertical-align: middle;\n",
       "    }\n",
       "\n",
       "    .dataframe tbody tr th {\n",
       "        vertical-align: top;\n",
       "    }\n",
       "\n",
       "    .dataframe thead th {\n",
       "        text-align: right;\n",
       "    }\n",
       "</style>\n",
       "<table border=\"1\" class=\"dataframe\">\n",
       "  <thead>\n",
       "    <tr style=\"text-align: right;\">\n",
       "      <th></th>\n",
       "      <th>custid</th>\n",
       "      <th>age</th>\n",
       "      <th>ed</th>\n",
       "      <th>income</th>\n",
       "      <th>lninc</th>\n",
       "      <th>debtinc</th>\n",
       "      <th>creddebt</th>\n",
       "      <th>lncreddebt</th>\n",
       "      <th>othdebt</th>\n",
       "      <th>lnothdebt</th>\n",
       "      <th>...</th>\n",
       "      <th>empcat_5</th>\n",
       "      <th>addresscat_2</th>\n",
       "      <th>addresscat_3</th>\n",
       "      <th>addresscat_4</th>\n",
       "      <th>addresscat_5</th>\n",
       "      <th>homeown_1</th>\n",
       "      <th>ebill_1</th>\n",
       "      <th>cardtype_2</th>\n",
       "      <th>cardtype_3</th>\n",
       "      <th>cardtype_4</th>\n",
       "    </tr>\n",
       "  </thead>\n",
       "  <tbody>\n",
       "    <tr>\n",
       "      <th>0</th>\n",
       "      <td>3964-QJWTRG-NPN</td>\n",
       "      <td>20</td>\n",
       "      <td>15</td>\n",
       "      <td>31</td>\n",
       "      <td>3.433987</td>\n",
       "      <td>11.1</td>\n",
       "      <td>1.200909</td>\n",
       "      <td>0.183079</td>\n",
       "      <td>2.240091</td>\n",
       "      <td>0.806516</td>\n",
       "      <td>...</td>\n",
       "      <td>0</td>\n",
       "      <td>0</td>\n",
       "      <td>0</td>\n",
       "      <td>0</td>\n",
       "      <td>0</td>\n",
       "      <td>0</td>\n",
       "      <td>0</td>\n",
       "      <td>0</td>\n",
       "      <td>0</td>\n",
       "      <td>0</td>\n",
       "    </tr>\n",
       "    <tr>\n",
       "      <th>1</th>\n",
       "      <td>0648-AIPJSP-UVM</td>\n",
       "      <td>22</td>\n",
       "      <td>17</td>\n",
       "      <td>15</td>\n",
       "      <td>2.708050</td>\n",
       "      <td>18.6</td>\n",
       "      <td>1.222020</td>\n",
       "      <td>0.200505</td>\n",
       "      <td>1.567980</td>\n",
       "      <td>0.449788</td>\n",
       "      <td>...</td>\n",
       "      <td>0</td>\n",
       "      <td>0</td>\n",
       "      <td>0</td>\n",
       "      <td>0</td>\n",
       "      <td>0</td>\n",
       "      <td>1</td>\n",
       "      <td>1</td>\n",
       "      <td>0</td>\n",
       "      <td>0</td>\n",
       "      <td>1</td>\n",
       "    </tr>\n",
       "    <tr>\n",
       "      <th>2</th>\n",
       "      <td>5195-TLUDJE-HVO</td>\n",
       "      <td>67</td>\n",
       "      <td>14</td>\n",
       "      <td>35</td>\n",
       "      <td>3.555348</td>\n",
       "      <td>9.9</td>\n",
       "      <td>0.928620</td>\n",
       "      <td>-0.074056</td>\n",
       "      <td>2.536380</td>\n",
       "      <td>0.930738</td>\n",
       "      <td>...</td>\n",
       "      <td>1</td>\n",
       "      <td>0</td>\n",
       "      <td>0</td>\n",
       "      <td>0</td>\n",
       "      <td>1</td>\n",
       "      <td>1</td>\n",
       "      <td>0</td>\n",
       "      <td>0</td>\n",
       "      <td>0</td>\n",
       "      <td>0</td>\n",
       "    </tr>\n",
       "    <tr>\n",
       "      <th>3</th>\n",
       "      <td>4459-VLPQUH-3OL</td>\n",
       "      <td>23</td>\n",
       "      <td>16</td>\n",
       "      <td>20</td>\n",
       "      <td>2.995732</td>\n",
       "      <td>5.7</td>\n",
       "      <td>0.022800</td>\n",
       "      <td>-3.780995</td>\n",
       "      <td>1.117200</td>\n",
       "      <td>0.110826</td>\n",
       "      <td>...</td>\n",
       "      <td>0</td>\n",
       "      <td>1</td>\n",
       "      <td>0</td>\n",
       "      <td>0</td>\n",
       "      <td>0</td>\n",
       "      <td>1</td>\n",
       "      <td>1</td>\n",
       "      <td>0</td>\n",
       "      <td>0</td>\n",
       "      <td>0</td>\n",
       "    </tr>\n",
       "    <tr>\n",
       "      <th>4</th>\n",
       "      <td>8158-SMTQFB-CNO</td>\n",
       "      <td>26</td>\n",
       "      <td>16</td>\n",
       "      <td>23</td>\n",
       "      <td>3.135494</td>\n",
       "      <td>1.7</td>\n",
       "      <td>0.214659</td>\n",
       "      <td>-1.538705</td>\n",
       "      <td>0.176341</td>\n",
       "      <td>-1.735336</td>\n",
       "      <td>...</td>\n",
       "      <td>0</td>\n",
       "      <td>1</td>\n",
       "      <td>0</td>\n",
       "      <td>0</td>\n",
       "      <td>0</td>\n",
       "      <td>0</td>\n",
       "      <td>0</td>\n",
       "      <td>1</td>\n",
       "      <td>0</td>\n",
       "      <td>0</td>\n",
       "    </tr>\n",
       "  </tbody>\n",
       "</table>\n",
       "<p>5 rows × 103 columns</p>\n",
       "</div>"
      ],
      "text/plain": [
       "            custid  age  ed  income     lninc  debtinc  creddebt  lncreddebt  \\\n",
       "0  3964-QJWTRG-NPN   20  15      31  3.433987     11.1  1.200909    0.183079   \n",
       "1  0648-AIPJSP-UVM   22  17      15  2.708050     18.6  1.222020    0.200505   \n",
       "2  5195-TLUDJE-HVO   67  14      35  3.555348      9.9  0.928620   -0.074056   \n",
       "3  4459-VLPQUH-3OL   23  16      20  2.995732      5.7  0.022800   -3.780995   \n",
       "4  8158-SMTQFB-CNO   26  16      23  3.135494      1.7  0.214659   -1.538705   \n",
       "\n",
       "    othdebt  lnothdebt     ...      empcat_5  addresscat_2  addresscat_3  \\\n",
       "0  2.240091   0.806516     ...             0             0             0   \n",
       "1  1.567980   0.449788     ...             0             0             0   \n",
       "2  2.536380   0.930738     ...             1             0             0   \n",
       "3  1.117200   0.110826     ...             0             1             0   \n",
       "4  0.176341  -1.735336     ...             0             1             0   \n",
       "\n",
       "   addresscat_4  addresscat_5  homeown_1  ebill_1  cardtype_2  cardtype_3  \\\n",
       "0             0             0          0        0           0           0   \n",
       "1             0             0          1        1           0           0   \n",
       "2             0             1          1        0           0           0   \n",
       "3             0             0          1        1           0           0   \n",
       "4             0             0          0        0           1           0   \n",
       "\n",
       "   cardtype_4  \n",
       "0           0  \n",
       "1           1  \n",
       "2           0  \n",
       "3           0  \n",
       "4           0  \n",
       "\n",
       "[5 rows x 103 columns]"
      ]
     },
     "execution_count": 25,
     "metadata": {},
     "output_type": "execute_result"
    }
   ],
   "source": [
    "CC_regression2 = pd.get_dummies(CC_regression1,columns=categorical_fields,drop_first=True)\n",
    "CC_regression2.head()"
   ]
  },
  {
   "cell_type": "markdown",
   "metadata": {},
   "source": [
    "# Splitting data into train and test"
   ]
  },
  {
   "cell_type": "code",
   "execution_count": 26,
   "metadata": {},
   "outputs": [],
   "source": [
    "X_values = CC_regression2.drop(['ln_totalcard_spend'],axis=1)"
   ]
  },
  {
   "cell_type": "code",
   "execution_count": 27,
   "metadata": {},
   "outputs": [],
   "source": [
    "from sklearn.cross_validation import train_test_split\n",
    "\n",
    "train_X, test_X, train_y, test_y = train_test_split( CC_regression2.drop(['custid','ln_totalcard_spend'],axis=1),\n",
    "                                                  CC_regression2['ln_totalcard_spend'],\n",
    "                                                  test_size = 0.2,\n",
    "                                                  random_state = 42 )"
   ]
  },
  {
   "cell_type": "markdown",
   "metadata": {},
   "source": [
    "# Variable Reduction"
   ]
  },
  {
   "cell_type": "code",
   "execution_count": 28,
   "metadata": {},
   "outputs": [],
   "source": [
    "from sklearn import linear_model\n",
    "from sklearn.feature_selection import RFE"
   ]
  },
  {
   "cell_type": "markdown",
   "metadata": {},
   "source": [
    "#### Intiating and fitting RFE with linear regression model"
   ]
  },
  {
   "cell_type": "code",
   "execution_count": 29,
   "metadata": {},
   "outputs": [
    {
     "data": {
      "text/plain": [
       "RFE(estimator=LinearRegression(copy_X=True, fit_intercept=True, n_jobs=1, normalize=False),\n",
       "  n_features_to_select=20, step=1, verbose=0)"
      ]
     },
     "execution_count": 29,
     "metadata": {},
     "output_type": "execute_result"
    }
   ],
   "source": [
    "linreg_model = linear_model.LinearRegression()\n",
    "rfe = RFE(linreg_model, 20)\n",
    "rfe2 = rfe.fit(train_X, train_y)\n",
    "rfe2"
   ]
  },
  {
   "cell_type": "markdown",
   "metadata": {},
   "source": [
    "#### Creating a command to find actually which variables are selected"
   ]
  },
  {
   "cell_type": "code",
   "execution_count": 30,
   "metadata": {},
   "outputs": [
    {
     "data": {
      "text/plain": [
       "Index(['lninc', 'carditems', 'card2items', 'gender_1', 'edcat_4', 'edcat_5',\n",
       "       'cardtenurecat_3', 'cardtenurecat_4', 'cardtenurecat_5',\n",
       "       'card2tenurecat_3', 'card2tenurecat_4', 'card2tenurecat_5', 'card_2',\n",
       "       'card_3', 'card_4', 'card_5', 'card2_2', 'card2_3', 'card2_4',\n",
       "       'card2_5'],\n",
       "      dtype='object')"
      ]
     },
     "execution_count": 30,
     "metadata": {},
     "output_type": "execute_result"
    }
   ],
   "source": [
    "top20_features = train_X.columns[rfe2.support_]\n",
    "top20_features"
   ]
  },
  {
   "cell_type": "markdown",
   "metadata": {},
   "source": [
    "# Extracting the top 20 variables"
   ]
  },
  {
   "cell_type": "code",
   "execution_count": 31,
   "metadata": {},
   "outputs": [],
   "source": [
    "train_data = pd.DataFrame(pd.DataFrame((train_y)).join(train_X[top20_features]))"
   ]
  },
  {
   "cell_type": "code",
   "execution_count": 32,
   "metadata": {},
   "outputs": [
    {
     "data": {
      "text/plain": [
       "(4000, 21)"
      ]
     },
     "execution_count": 32,
     "metadata": {},
     "output_type": "execute_result"
    }
   ],
   "source": [
    "train_data.shape"
   ]
  },
  {
   "cell_type": "markdown",
   "metadata": {},
   "source": [
    "# Building Model"
   ]
  },
  {
   "cell_type": "code",
   "execution_count": 33,
   "metadata": {},
   "outputs": [],
   "source": [
    "import statsmodels.formula.api as smf"
   ]
  },
  {
   "cell_type": "code",
   "execution_count": 34,
   "metadata": {},
   "outputs": [],
   "source": [
    "model_output = smf.ols(formula='ln_totalcard_spend~lninc+carditems+card2items+gender_1+edcat_4+edcat_5+cardtenurecat_3+cardtenurecat_4+cardtenurecat_5+card2tenurecat_3+card2tenurecat_4+card2tenurecat_5+card_2+card_3+card_4+card_5+card2_2+card2_3+card2_4+card2_5', data=train_data).fit()"
   ]
  },
  {
   "cell_type": "code",
   "execution_count": 35,
   "metadata": {},
   "outputs": [
    {
     "name": "stdout",
     "output_type": "stream",
     "text": [
      "                            OLS Regression Results                            \n",
      "==============================================================================\n",
      "Dep. Variable:     ln_totalcard_spend   R-squared:                       0.685\n",
      "Model:                            OLS   Adj. R-squared:                  0.684\n",
      "Method:                 Least Squares   F-statistic:                     433.4\n",
      "Date:                Sun, 27 May 2018   Prob (F-statistic):               0.00\n",
      "Time:                        14:52:56   Log-Likelihood:                -1564.2\n",
      "No. Observations:                4000   AIC:                             3170.\n",
      "Df Residuals:                    3979   BIC:                             3303.\n",
      "Df Model:                          20                                         \n",
      "Covariance Type:            nonrobust                                         \n",
      "====================================================================================\n",
      "                       coef    std err          t      P>|t|      [0.025      0.975]\n",
      "------------------------------------------------------------------------------------\n",
      "Intercept            4.3633      0.042    103.258      0.000       4.280       4.446\n",
      "lninc                0.2873      0.008     35.145      0.000       0.271       0.303\n",
      "carditems            0.0796      0.002     47.187      0.000       0.076       0.083\n",
      "card2items           0.1003      0.002     43.197      0.000       0.096       0.105\n",
      "gender_1            -0.0375      0.011     -3.275      0.001      -0.060      -0.015\n",
      "edcat_4             -0.0344      0.014     -2.420      0.016      -0.062      -0.007\n",
      "edcat_5             -0.0480      0.023     -2.114      0.035      -0.093      -0.003\n",
      "cardtenurecat_3     -0.0618      0.026     -2.415      0.016      -0.112      -0.012\n",
      "cardtenurecat_4     -0.0597      0.033     -1.807      0.071      -0.124       0.005\n",
      "cardtenurecat_5     -0.0916      0.037     -2.455      0.014      -0.165      -0.018\n",
      "card2tenurecat_3     0.0507      0.027      1.896      0.058      -0.002       0.103\n",
      "card2tenurecat_4     0.0627      0.034      1.843      0.065      -0.004       0.129\n",
      "card2tenurecat_5     0.0598      0.037      1.629      0.103      -0.012       0.132\n",
      "card_2              -0.4901      0.018    -26.818      0.000      -0.526      -0.454\n",
      "card_3              -0.5030      0.019    -26.934      0.000      -0.540      -0.466\n",
      "card_4              -0.5538      0.019    -29.110      0.000      -0.591      -0.516\n",
      "card_5              -0.4421      0.031    -14.296      0.000      -0.503      -0.381\n",
      "card2_2             -0.2742      0.019    -14.576      0.000      -0.311      -0.237\n",
      "card2_3             -0.2838      0.019    -15.269      0.000      -0.320      -0.247\n",
      "card2_4             -0.3006      0.020    -14.725      0.000      -0.341      -0.261\n",
      "card2_5             -0.2381      0.027     -8.868      0.000      -0.291      -0.185\n",
      "==============================================================================\n",
      "Omnibus:                       30.410   Durbin-Watson:                   2.021\n",
      "Prob(Omnibus):                  0.000   Jarque-Bera (JB):               30.911\n",
      "Skew:                           0.214   Prob(JB):                     1.94e-07\n",
      "Kurtosis:                       3.049   Cond. No.                         153.\n",
      "==============================================================================\n",
      "\n",
      "Warnings:\n",
      "[1] Standard Errors assume that the covariance matrix of the errors is correctly specified.\n"
     ]
    }
   ],
   "source": [
    "print(model_output.summary())"
   ]
  },
  {
   "cell_type": "markdown",
   "metadata": {},
   "source": [
    "# Refining Model after multiple iteration finding the combination of minimum number of variables providing maximum r2"
   ]
  },
  {
   "cell_type": "code",
   "execution_count": 36,
   "metadata": {},
   "outputs": [],
   "source": [
    "model_output = smf.ols(formula='ln_totalcard_spend~lninc+cardtenurecat_5+cardtenurecat_3+gender_1+carditems+card2items+card_2+card_3+card_4+card_5+card2_2+card2_3+card2_4+card2_5', data=train_data).fit()"
   ]
  },
  {
   "cell_type": "code",
   "execution_count": 37,
   "metadata": {},
   "outputs": [
    {
     "name": "stdout",
     "output_type": "stream",
     "text": [
      "                            OLS Regression Results                            \n",
      "==============================================================================\n",
      "Dep. Variable:     ln_totalcard_spend   R-squared:                       0.684\n",
      "Model:                            OLS   Adj. R-squared:                  0.683\n",
      "Method:                 Least Squares   F-statistic:                     617.1\n",
      "Date:                Sun, 27 May 2018   Prob (F-statistic):               0.00\n",
      "Time:                        14:52:58   Log-Likelihood:                -1570.6\n",
      "No. Observations:                4000   AIC:                             3171.\n",
      "Df Residuals:                    3985   BIC:                             3266.\n",
      "Df Model:                          14                                         \n",
      "Covariance Type:            nonrobust                                         \n",
      "===================================================================================\n",
      "                      coef    std err          t      P>|t|      [0.025      0.975]\n",
      "-----------------------------------------------------------------------------------\n",
      "Intercept           4.3586      0.042    103.510      0.000       4.276       4.441\n",
      "lninc               0.2832      0.008     35.453      0.000       0.268       0.299\n",
      "cardtenurecat_5    -0.0286      0.013     -2.245      0.025      -0.054      -0.004\n",
      "cardtenurecat_3    -0.0270      0.017     -1.581      0.114      -0.060       0.006\n",
      "gender_1           -0.0377      0.011     -3.296      0.001      -0.060      -0.015\n",
      "carditems           0.0796      0.002     47.197      0.000       0.076       0.083\n",
      "card2items          0.1006      0.002     43.346      0.000       0.096       0.105\n",
      "card_2             -0.4838      0.018    -26.622      0.000      -0.519      -0.448\n",
      "card_3             -0.4967      0.019    -26.741      0.000      -0.533      -0.460\n",
      "card_4             -0.5545      0.019    -29.133      0.000      -0.592      -0.517\n",
      "card_5             -0.4337      0.031    -14.097      0.000      -0.494      -0.373\n",
      "card2_2            -0.2695      0.019    -14.372      0.000      -0.306      -0.233\n",
      "card2_3            -0.2809      0.019    -15.128      0.000      -0.317      -0.245\n",
      "card2_4            -0.3013      0.020    -14.764      0.000      -0.341      -0.261\n",
      "card2_5            -0.2314      0.027     -8.652      0.000      -0.284      -0.179\n",
      "==============================================================================\n",
      "Omnibus:                       30.947   Durbin-Watson:                   2.021\n",
      "Prob(Omnibus):                  0.000   Jarque-Bera (JB):               31.478\n",
      "Skew:                           0.216   Prob(JB):                     1.46e-07\n",
      "Kurtosis:                       3.041   Cond. No.                         107.\n",
      "==============================================================================\n",
      "\n",
      "Warnings:\n",
      "[1] Standard Errors assume that the covariance matrix of the errors is correctly specified.\n"
     ]
    }
   ],
   "source": [
    "print(model_output.summary())"
   ]
  },
  {
   "cell_type": "markdown",
   "metadata": {},
   "source": [
    "# create a data frame for comparison of values from the model and the actual values"
   ]
  },
  {
   "cell_type": "code",
   "execution_count": 38,
   "metadata": {},
   "outputs": [],
   "source": [
    "fitted_values = pd.DataFrame(model_output.fittedvalues, columns=[\"output_values\"])\n",
    "comparison = pd.DataFrame(train_y).join(fitted_values)"
   ]
  },
  {
   "cell_type": "markdown",
   "metadata": {},
   "source": [
    "# Finding RMSE ad scatter plot"
   ]
  },
  {
   "cell_type": "code",
   "execution_count": 39,
   "metadata": {},
   "outputs": [
    {
     "data": {
      "text/plain": [
       "0.36"
      ]
     },
     "execution_count": 39,
     "metadata": {},
     "output_type": "execute_result"
    }
   ],
   "source": [
    "rmse_model_output = np.sqrt(model_output.mse_resid)\n",
    "rmse_model_output.round(2)"
   ]
  },
  {
   "cell_type": "code",
   "execution_count": 40,
   "metadata": {},
   "outputs": [
    {
     "data": {
      "text/plain": [
       "Text(0.5,1,'Predicted vs Actual Spends - Training Data')"
      ]
     },
     "execution_count": 40,
     "metadata": {},
     "output_type": "execute_result"
    },
    {
     "data": {
      "image/png": "[encoded data removed]",
      "text/plain": [
       "<matplotlib.figure.Figure at 0xb83dd30>"
      ]
     },
     "metadata": {},
     "output_type": "display_data"
    }
   ],
   "source": [
    "plt.scatter(x= comparison[\"ln_totalcard_spend\"], y= comparison[\"output_values\"], s=10)\n",
    "plt.plot(range(10),range(10),'-')\n",
    "plt.title(\"Predicted vs Actual Spends - Training Data\")"
   ]
  },
  {
   "cell_type": "markdown",
   "metadata": {},
   "source": [
    "# Create comparison data for the test set"
   ]
  },
  {
   "cell_type": "markdown",
   "metadata": {},
   "source": [
    "#### Applying the model on the Y variable of the Test Data"
   ]
  },
  {
   "cell_type": "code",
   "execution_count": 41,
   "metadata": {},
   "outputs": [],
   "source": [
    "predictions_test = pd.DataFrame(model_output.predict(test_X), columns=[\"predictions_test\"], index=test_y.index)"
   ]
  },
  {
   "cell_type": "code",
   "execution_count": 42,
   "metadata": {},
   "outputs": [
    {
     "data": {
      "text/html": [
       "<div>\n",
       "<style scoped>\n",
       "    .dataframe tbody tr th:only-of-type {\n",
       "        vertical-align: middle;\n",
       "    }\n",
       "\n",
       "    .dataframe tbody tr th {\n",
       "        vertical-align: top;\n",
       "    }\n",
       "\n",
       "    .dataframe thead th {\n",
       "        text-align: right;\n",
       "    }\n",
       "</style>\n",
       "<table border=\"1\" class=\"dataframe\">\n",
       "  <thead>\n",
       "    <tr style=\"text-align: right;\">\n",
       "      <th></th>\n",
       "      <th>predictions_test</th>\n",
       "    </tr>\n",
       "  </thead>\n",
       "  <tbody>\n",
       "    <tr>\n",
       "      <th>1501</th>\n",
       "      <td>5.280746</td>\n",
       "    </tr>\n",
       "    <tr>\n",
       "      <th>2586</th>\n",
       "      <td>5.997548</td>\n",
       "    </tr>\n",
       "    <tr>\n",
       "      <th>2653</th>\n",
       "      <td>4.677604</td>\n",
       "    </tr>\n",
       "    <tr>\n",
       "      <th>1055</th>\n",
       "      <td>6.546245</td>\n",
       "    </tr>\n",
       "    <tr>\n",
       "      <th>705</th>\n",
       "      <td>6.180121</td>\n",
       "    </tr>\n",
       "    <tr>\n",
       "      <th>106</th>\n",
       "      <td>5.898410</td>\n",
       "    </tr>\n",
       "    <tr>\n",
       "      <th>589</th>\n",
       "      <td>5.392563</td>\n",
       "    </tr>\n",
       "    <tr>\n",
       "      <th>2468</th>\n",
       "      <td>5.824664</td>\n",
       "    </tr>\n",
       "    <tr>\n",
       "      <th>2413</th>\n",
       "      <td>6.489786</td>\n",
       "    </tr>\n",
       "    <tr>\n",
       "      <th>1600</th>\n",
       "      <td>5.311862</td>\n",
       "    </tr>\n",
       "    <tr>\n",
       "      <th>2464</th>\n",
       "      <td>6.094290</td>\n",
       "    </tr>\n",
       "    <tr>\n",
       "      <th>228</th>\n",
       "      <td>6.776250</td>\n",
       "    </tr>\n",
       "    <tr>\n",
       "      <th>915</th>\n",
       "      <td>5.821388</td>\n",
       "    </tr>\n",
       "    <tr>\n",
       "      <th>794</th>\n",
       "      <td>5.997426</td>\n",
       "    </tr>\n",
       "    <tr>\n",
       "      <th>3021</th>\n",
       "      <td>5.934294</td>\n",
       "    </tr>\n",
       "    <tr>\n",
       "      <th>3543</th>\n",
       "      <td>6.263408</td>\n",
       "    </tr>\n",
       "    <tr>\n",
       "      <th>1073</th>\n",
       "      <td>6.854265</td>\n",
       "    </tr>\n",
       "    <tr>\n",
       "      <th>3351</th>\n",
       "      <td>6.447161</td>\n",
       "    </tr>\n",
       "    <tr>\n",
       "      <th>1744</th>\n",
       "      <td>5.586766</td>\n",
       "    </tr>\n",
       "    <tr>\n",
       "      <th>1084</th>\n",
       "      <td>5.798860</td>\n",
       "    </tr>\n",
       "    <tr>\n",
       "      <th>926</th>\n",
       "      <td>5.348246</td>\n",
       "    </tr>\n",
       "    <tr>\n",
       "      <th>3049</th>\n",
       "      <td>6.367326</td>\n",
       "    </tr>\n",
       "    <tr>\n",
       "      <th>1117</th>\n",
       "      <td>6.495748</td>\n",
       "    </tr>\n",
       "    <tr>\n",
       "      <th>642</th>\n",
       "      <td>5.950431</td>\n",
       "    </tr>\n",
       "    <tr>\n",
       "      <th>4767</th>\n",
       "      <td>6.220088</td>\n",
       "    </tr>\n",
       "    <tr>\n",
       "      <th>501</th>\n",
       "      <td>7.050118</td>\n",
       "    </tr>\n",
       "    <tr>\n",
       "      <th>4066</th>\n",
       "      <td>6.136468</td>\n",
       "    </tr>\n",
       "    <tr>\n",
       "      <th>333</th>\n",
       "      <td>6.889310</td>\n",
       "    </tr>\n",
       "    <tr>\n",
       "      <th>4684</th>\n",
       "      <td>6.672808</td>\n",
       "    </tr>\n",
       "    <tr>\n",
       "      <th>486</th>\n",
       "      <td>5.778724</td>\n",
       "    </tr>\n",
       "    <tr>\n",
       "      <th>...</th>\n",
       "      <td>...</td>\n",
       "    </tr>\n",
       "    <tr>\n",
       "      <th>1786</th>\n",
       "      <td>6.419995</td>\n",
       "    </tr>\n",
       "    <tr>\n",
       "      <th>88</th>\n",
       "      <td>6.009733</td>\n",
       "    </tr>\n",
       "    <tr>\n",
       "      <th>457</th>\n",
       "      <td>6.375884</td>\n",
       "    </tr>\n",
       "    <tr>\n",
       "      <th>1305</th>\n",
       "      <td>6.298526</td>\n",
       "    </tr>\n",
       "    <tr>\n",
       "      <th>2925</th>\n",
       "      <td>6.442773</td>\n",
       "    </tr>\n",
       "    <tr>\n",
       "      <th>3270</th>\n",
       "      <td>5.421390</td>\n",
       "    </tr>\n",
       "    <tr>\n",
       "      <th>3227</th>\n",
       "      <td>5.808758</td>\n",
       "    </tr>\n",
       "    <tr>\n",
       "      <th>1988</th>\n",
       "      <td>6.320097</td>\n",
       "    </tr>\n",
       "    <tr>\n",
       "      <th>3754</th>\n",
       "      <td>6.725985</td>\n",
       "    </tr>\n",
       "    <tr>\n",
       "      <th>3646</th>\n",
       "      <td>5.681005</td>\n",
       "    </tr>\n",
       "    <tr>\n",
       "      <th>831</th>\n",
       "      <td>6.024150</td>\n",
       "    </tr>\n",
       "    <tr>\n",
       "      <th>239</th>\n",
       "      <td>5.455480</td>\n",
       "    </tr>\n",
       "    <tr>\n",
       "      <th>4681</th>\n",
       "      <td>4.514604</td>\n",
       "    </tr>\n",
       "    <tr>\n",
       "      <th>3022</th>\n",
       "      <td>6.418791</td>\n",
       "    </tr>\n",
       "    <tr>\n",
       "      <th>3148</th>\n",
       "      <td>6.563148</td>\n",
       "    </tr>\n",
       "    <tr>\n",
       "      <th>1946</th>\n",
       "      <td>5.657842</td>\n",
       "    </tr>\n",
       "    <tr>\n",
       "      <th>2775</th>\n",
       "      <td>6.273662</td>\n",
       "    </tr>\n",
       "    <tr>\n",
       "      <th>192</th>\n",
       "      <td>5.583022</td>\n",
       "    </tr>\n",
       "    <tr>\n",
       "      <th>4849</th>\n",
       "      <td>6.412517</td>\n",
       "    </tr>\n",
       "    <tr>\n",
       "      <th>4939</th>\n",
       "      <td>5.243111</td>\n",
       "    </tr>\n",
       "    <tr>\n",
       "      <th>944</th>\n",
       "      <td>5.403355</td>\n",
       "    </tr>\n",
       "    <tr>\n",
       "      <th>1268</th>\n",
       "      <td>6.308868</td>\n",
       "    </tr>\n",
       "    <tr>\n",
       "      <th>4231</th>\n",
       "      <td>5.456441</td>\n",
       "    </tr>\n",
       "    <tr>\n",
       "      <th>2307</th>\n",
       "      <td>6.268842</td>\n",
       "    </tr>\n",
       "    <tr>\n",
       "      <th>4424</th>\n",
       "      <td>5.861374</td>\n",
       "    </tr>\n",
       "    <tr>\n",
       "      <th>4711</th>\n",
       "      <td>6.074093</td>\n",
       "    </tr>\n",
       "    <tr>\n",
       "      <th>2313</th>\n",
       "      <td>5.204967</td>\n",
       "    </tr>\n",
       "    <tr>\n",
       "      <th>3214</th>\n",
       "      <td>6.306390</td>\n",
       "    </tr>\n",
       "    <tr>\n",
       "      <th>2732</th>\n",
       "      <td>6.376027</td>\n",
       "    </tr>\n",
       "    <tr>\n",
       "      <th>1926</th>\n",
       "      <td>5.943752</td>\n",
       "    </tr>\n",
       "  </tbody>\n",
       "</table>\n",
       "<p>1000 rows × 1 columns</p>\n",
       "</div>"
      ],
      "text/plain": [
       "      predictions_test\n",
       "1501          5.280746\n",
       "2586          5.997548\n",
       "2653          4.677604\n",
       "1055          6.546245\n",
       "705           6.180121\n",
       "106           5.898410\n",
       "589           5.392563\n",
       "2468          5.824664\n",
       "2413          6.489786\n",
       "1600          5.311862\n",
       "2464          6.094290\n",
       "228           6.776250\n",
       "915           5.821388\n",
       "794           5.997426\n",
       "3021          5.934294\n",
       "3543          6.263408\n",
       "1073          6.854265\n",
       "3351          6.447161\n",
       "1744          5.586766\n",
       "1084          5.798860\n",
       "926           5.348246\n",
       "3049          6.367326\n",
       "1117          6.495748\n",
       "642           5.950431\n",
       "4767          6.220088\n",
       "501           7.050118\n",
       "4066          6.136468\n",
       "333           6.889310\n",
       "4684          6.672808\n",
       "486           5.778724\n",
       "...                ...\n",
       "1786          6.419995\n",
       "88            6.009733\n",
       "457           6.375884\n",
       "1305          6.298526\n",
       "2925          6.442773\n",
       "3270          5.421390\n",
       "3227          5.808758\n",
       "1988          6.320097\n",
       "3754          6.725985\n",
       "3646          5.681005\n",
       "831           6.024150\n",
       "239           5.455480\n",
       "4681          4.514604\n",
       "3022          6.418791\n",
       "3148          6.563148\n",
       "1946          5.657842\n",
       "2775          6.273662\n",
       "192           5.583022\n",
       "4849          6.412517\n",
       "4939          5.243111\n",
       "944           5.403355\n",
       "1268          6.308868\n",
       "4231          5.456441\n",
       "2307          6.268842\n",
       "4424          5.861374\n",
       "4711          6.074093\n",
       "2313          5.204967\n",
       "3214          6.306390\n",
       "2732          6.376027\n",
       "1926          5.943752\n",
       "\n",
       "[1000 rows x 1 columns]"
      ]
     },
     "execution_count": 42,
     "metadata": {},
     "output_type": "execute_result"
    }
   ],
   "source": [
    "predictions_test"
   ]
  },
  {
   "cell_type": "markdown",
   "metadata": {},
   "source": [
    "#### Creating a dataframe comparing the Perdicted Y and Y variable of the test data"
   ]
  },
  {
   "cell_type": "code",
   "execution_count": 43,
   "metadata": {},
   "outputs": [],
   "source": [
    "test_comparison = pd.DataFrame(test_y).join(predictions_test)"
   ]
  },
  {
   "cell_type": "code",
   "execution_count": 44,
   "metadata": {},
   "outputs": [
    {
     "data": {
      "text/html": [
       "<div>\n",
       "<style scoped>\n",
       "    .dataframe tbody tr th:only-of-type {\n",
       "        vertical-align: middle;\n",
       "    }\n",
       "\n",
       "    .dataframe tbody tr th {\n",
       "        vertical-align: top;\n",
       "    }\n",
       "\n",
       "    .dataframe thead th {\n",
       "        text-align: right;\n",
       "    }\n",
       "</style>\n",
       "<table border=\"1\" class=\"dataframe\">\n",
       "  <thead>\n",
       "    <tr style=\"text-align: right;\">\n",
       "      <th></th>\n",
       "      <th>ln_totalcard_spend</th>\n",
       "      <th>predictions_test</th>\n",
       "    </tr>\n",
       "  </thead>\n",
       "  <tbody>\n",
       "    <tr>\n",
       "      <th>1501</th>\n",
       "      <td>5.520701</td>\n",
       "      <td>5.280746</td>\n",
       "    </tr>\n",
       "    <tr>\n",
       "      <th>2586</th>\n",
       "      <td>5.973759</td>\n",
       "      <td>5.997548</td>\n",
       "    </tr>\n",
       "    <tr>\n",
       "      <th>2653</th>\n",
       "      <td>4.791899</td>\n",
       "      <td>4.677604</td>\n",
       "    </tr>\n",
       "    <tr>\n",
       "      <th>1055</th>\n",
       "      <td>6.585413</td>\n",
       "      <td>6.546245</td>\n",
       "    </tr>\n",
       "    <tr>\n",
       "      <th>705</th>\n",
       "      <td>6.060174</td>\n",
       "      <td>6.180121</td>\n",
       "    </tr>\n",
       "    <tr>\n",
       "      <th>106</th>\n",
       "      <td>5.593782</td>\n",
       "      <td>5.898410</td>\n",
       "    </tr>\n",
       "    <tr>\n",
       "      <th>589</th>\n",
       "      <td>6.303022</td>\n",
       "      <td>5.392563</td>\n",
       "    </tr>\n",
       "    <tr>\n",
       "      <th>2468</th>\n",
       "      <td>5.854843</td>\n",
       "      <td>5.824664</td>\n",
       "    </tr>\n",
       "    <tr>\n",
       "      <th>2413</th>\n",
       "      <td>6.440978</td>\n",
       "      <td>6.489786</td>\n",
       "    </tr>\n",
       "    <tr>\n",
       "      <th>1600</th>\n",
       "      <td>4.939068</td>\n",
       "      <td>5.311862</td>\n",
       "    </tr>\n",
       "    <tr>\n",
       "      <th>2464</th>\n",
       "      <td>6.458652</td>\n",
       "      <td>6.094290</td>\n",
       "    </tr>\n",
       "    <tr>\n",
       "      <th>228</th>\n",
       "      <td>7.473695</td>\n",
       "      <td>6.776250</td>\n",
       "    </tr>\n",
       "    <tr>\n",
       "      <th>915</th>\n",
       "      <td>5.676685</td>\n",
       "      <td>5.821388</td>\n",
       "    </tr>\n",
       "    <tr>\n",
       "      <th>794</th>\n",
       "      <td>5.981616</td>\n",
       "      <td>5.997426</td>\n",
       "    </tr>\n",
       "    <tr>\n",
       "      <th>3021</th>\n",
       "      <td>6.506919</td>\n",
       "      <td>5.934294</td>\n",
       "    </tr>\n",
       "    <tr>\n",
       "      <th>3543</th>\n",
       "      <td>6.105909</td>\n",
       "      <td>6.263408</td>\n",
       "    </tr>\n",
       "    <tr>\n",
       "      <th>1073</th>\n",
       "      <td>6.433213</td>\n",
       "      <td>6.854265</td>\n",
       "    </tr>\n",
       "    <tr>\n",
       "      <th>3351</th>\n",
       "      <td>6.721402</td>\n",
       "      <td>6.447161</td>\n",
       "    </tr>\n",
       "    <tr>\n",
       "      <th>1744</th>\n",
       "      <td>5.046195</td>\n",
       "      <td>5.586766</td>\n",
       "    </tr>\n",
       "    <tr>\n",
       "      <th>1084</th>\n",
       "      <td>5.929483</td>\n",
       "      <td>5.798860</td>\n",
       "    </tr>\n",
       "    <tr>\n",
       "      <th>926</th>\n",
       "      <td>5.628772</td>\n",
       "      <td>5.348246</td>\n",
       "    </tr>\n",
       "    <tr>\n",
       "      <th>3049</th>\n",
       "      <td>6.567699</td>\n",
       "      <td>6.367326</td>\n",
       "    </tr>\n",
       "    <tr>\n",
       "      <th>1117</th>\n",
       "      <td>6.481960</td>\n",
       "      <td>6.495748</td>\n",
       "    </tr>\n",
       "    <tr>\n",
       "      <th>642</th>\n",
       "      <td>5.643679</td>\n",
       "      <td>5.950431</td>\n",
       "    </tr>\n",
       "    <tr>\n",
       "      <th>4767</th>\n",
       "      <td>6.480704</td>\n",
       "      <td>6.220088</td>\n",
       "    </tr>\n",
       "    <tr>\n",
       "      <th>501</th>\n",
       "      <td>6.155346</td>\n",
       "      <td>7.050118</td>\n",
       "    </tr>\n",
       "    <tr>\n",
       "      <th>4066</th>\n",
       "      <td>6.263093</td>\n",
       "      <td>6.136468</td>\n",
       "    </tr>\n",
       "    <tr>\n",
       "      <th>333</th>\n",
       "      <td>6.219616</td>\n",
       "      <td>6.889310</td>\n",
       "    </tr>\n",
       "    <tr>\n",
       "      <th>4684</th>\n",
       "      <td>6.938643</td>\n",
       "      <td>6.672808</td>\n",
       "    </tr>\n",
       "    <tr>\n",
       "      <th>486</th>\n",
       "      <td>5.688669</td>\n",
       "      <td>5.778724</td>\n",
       "    </tr>\n",
       "    <tr>\n",
       "      <th>...</th>\n",
       "      <td>...</td>\n",
       "      <td>...</td>\n",
       "    </tr>\n",
       "    <tr>\n",
       "      <th>1786</th>\n",
       "      <td>6.626705</td>\n",
       "      <td>6.419995</td>\n",
       "    </tr>\n",
       "    <tr>\n",
       "      <th>88</th>\n",
       "      <td>6.733569</td>\n",
       "      <td>6.009733</td>\n",
       "    </tr>\n",
       "    <tr>\n",
       "      <th>457</th>\n",
       "      <td>6.803117</td>\n",
       "      <td>6.375884</td>\n",
       "    </tr>\n",
       "    <tr>\n",
       "      <th>1305</th>\n",
       "      <td>6.528528</td>\n",
       "      <td>6.298526</td>\n",
       "    </tr>\n",
       "    <tr>\n",
       "      <th>2925</th>\n",
       "      <td>6.618232</td>\n",
       "      <td>6.442773</td>\n",
       "    </tr>\n",
       "    <tr>\n",
       "      <th>3270</th>\n",
       "      <td>5.512461</td>\n",
       "      <td>5.421390</td>\n",
       "    </tr>\n",
       "    <tr>\n",
       "      <th>3227</th>\n",
       "      <td>6.251538</td>\n",
       "      <td>5.808758</td>\n",
       "    </tr>\n",
       "    <tr>\n",
       "      <th>1988</th>\n",
       "      <td>6.086479</td>\n",
       "      <td>6.320097</td>\n",
       "    </tr>\n",
       "    <tr>\n",
       "      <th>3754</th>\n",
       "      <td>7.473695</td>\n",
       "      <td>6.725985</td>\n",
       "    </tr>\n",
       "    <tr>\n",
       "      <th>3646</th>\n",
       "      <td>5.755426</td>\n",
       "      <td>5.681005</td>\n",
       "    </tr>\n",
       "    <tr>\n",
       "      <th>831</th>\n",
       "      <td>5.788032</td>\n",
       "      <td>6.024150</td>\n",
       "    </tr>\n",
       "    <tr>\n",
       "      <th>239</th>\n",
       "      <td>5.301662</td>\n",
       "      <td>5.455480</td>\n",
       "    </tr>\n",
       "    <tr>\n",
       "      <th>4681</th>\n",
       "      <td>4.397285</td>\n",
       "      <td>4.514604</td>\n",
       "    </tr>\n",
       "    <tr>\n",
       "      <th>3022</th>\n",
       "      <td>5.972307</td>\n",
       "      <td>6.418791</td>\n",
       "    </tr>\n",
       "    <tr>\n",
       "      <th>3148</th>\n",
       "      <td>6.088954</td>\n",
       "      <td>6.563148</td>\n",
       "    </tr>\n",
       "    <tr>\n",
       "      <th>1946</th>\n",
       "      <td>6.069259</td>\n",
       "      <td>5.657842</td>\n",
       "    </tr>\n",
       "    <tr>\n",
       "      <th>2775</th>\n",
       "      <td>6.357790</td>\n",
       "      <td>6.273662</td>\n",
       "    </tr>\n",
       "    <tr>\n",
       "      <th>192</th>\n",
       "      <td>5.003879</td>\n",
       "      <td>5.583022</td>\n",
       "    </tr>\n",
       "    <tr>\n",
       "      <th>4849</th>\n",
       "      <td>6.432393</td>\n",
       "      <td>6.412517</td>\n",
       "    </tr>\n",
       "    <tr>\n",
       "      <th>4939</th>\n",
       "      <td>5.724369</td>\n",
       "      <td>5.243111</td>\n",
       "    </tr>\n",
       "    <tr>\n",
       "      <th>944</th>\n",
       "      <td>5.111265</td>\n",
       "      <td>5.403355</td>\n",
       "    </tr>\n",
       "    <tr>\n",
       "      <th>1268</th>\n",
       "      <td>6.468971</td>\n",
       "      <td>6.308868</td>\n",
       "    </tr>\n",
       "    <tr>\n",
       "      <th>4231</th>\n",
       "      <td>5.934127</td>\n",
       "      <td>5.456441</td>\n",
       "    </tr>\n",
       "    <tr>\n",
       "      <th>2307</th>\n",
       "      <td>6.595439</td>\n",
       "      <td>6.268842</td>\n",
       "    </tr>\n",
       "    <tr>\n",
       "      <th>4424</th>\n",
       "      <td>6.248410</td>\n",
       "      <td>5.861374</td>\n",
       "    </tr>\n",
       "    <tr>\n",
       "      <th>4711</th>\n",
       "      <td>5.975361</td>\n",
       "      <td>6.074093</td>\n",
       "    </tr>\n",
       "    <tr>\n",
       "      <th>2313</th>\n",
       "      <td>4.665795</td>\n",
       "      <td>5.204967</td>\n",
       "    </tr>\n",
       "    <tr>\n",
       "      <th>3214</th>\n",
       "      <td>6.260499</td>\n",
       "      <td>6.306390</td>\n",
       "    </tr>\n",
       "    <tr>\n",
       "      <th>2732</th>\n",
       "      <td>5.856446</td>\n",
       "      <td>6.376027</td>\n",
       "    </tr>\n",
       "    <tr>\n",
       "      <th>1926</th>\n",
       "      <td>5.732402</td>\n",
       "      <td>5.943752</td>\n",
       "    </tr>\n",
       "  </tbody>\n",
       "</table>\n",
       "<p>1000 rows × 2 columns</p>\n",
       "</div>"
      ],
      "text/plain": [
       "      ln_totalcard_spend  predictions_test\n",
       "1501            5.520701          5.280746\n",
       "2586            5.973759          5.997548\n",
       "2653            4.791899          4.677604\n",
       "1055            6.585413          6.546245\n",
       "705             6.060174          6.180121\n",
       "106             5.593782          5.898410\n",
       "589             6.303022          5.392563\n",
       "2468            5.854843          5.824664\n",
       "2413            6.440978          6.489786\n",
       "1600            4.939068          5.311862\n",
       "2464            6.458652          6.094290\n",
       "228             7.473695          6.776250\n",
       "915             5.676685          5.821388\n",
       "794             5.981616          5.997426\n",
       "3021            6.506919          5.934294\n",
       "3543            6.105909          6.263408\n",
       "1073            6.433213          6.854265\n",
       "3351            6.721402          6.447161\n",
       "1744            5.046195          5.586766\n",
       "1084            5.929483          5.798860\n",
       "926             5.628772          5.348246\n",
       "3049            6.567699          6.367326\n",
       "1117            6.481960          6.495748\n",
       "642             5.643679          5.950431\n",
       "4767            6.480704          6.220088\n",
       "501             6.155346          7.050118\n",
       "4066            6.263093          6.136468\n",
       "333             6.219616          6.889310\n",
       "4684            6.938643          6.672808\n",
       "486             5.688669          5.778724\n",
       "...                  ...               ...\n",
       "1786            6.626705          6.419995\n",
       "88              6.733569          6.009733\n",
       "457             6.803117          6.375884\n",
       "1305            6.528528          6.298526\n",
       "2925            6.618232          6.442773\n",
       "3270            5.512461          5.421390\n",
       "3227            6.251538          5.808758\n",
       "1988            6.086479          6.320097\n",
       "3754            7.473695          6.725985\n",
       "3646            5.755426          5.681005\n",
       "831             5.788032          6.024150\n",
       "239             5.301662          5.455480\n",
       "4681            4.397285          4.514604\n",
       "3022            5.972307          6.418791\n",
       "3148            6.088954          6.563148\n",
       "1946            6.069259          5.657842\n",
       "2775            6.357790          6.273662\n",
       "192             5.003879          5.583022\n",
       "4849            6.432393          6.412517\n",
       "4939            5.724369          5.243111\n",
       "944             5.111265          5.403355\n",
       "1268            6.468971          6.308868\n",
       "4231            5.934127          5.456441\n",
       "2307            6.595439          6.268842\n",
       "4424            6.248410          5.861374\n",
       "4711            5.975361          6.074093\n",
       "2313            4.665795          5.204967\n",
       "3214            6.260499          6.306390\n",
       "2732            5.856446          6.376027\n",
       "1926            5.732402          5.943752\n",
       "\n",
       "[1000 rows x 2 columns]"
      ]
     },
     "execution_count": 44,
     "metadata": {},
     "output_type": "execute_result"
    }
   ],
   "source": [
    "test_comparison"
   ]
  },
  {
   "cell_type": "markdown",
   "metadata": {},
   "source": [
    "#### Calculating the Mean absolute Error"
   ]
  },
  {
   "cell_type": "code",
   "execution_count": 45,
   "metadata": {},
   "outputs": [],
   "source": [
    "mae = sum((test_comparison[\"ln_totalcard_spend\"] - test_comparison[\"predictions_test\"]).abs())/ (test_comparison.shape[0])"
   ]
  },
  {
   "cell_type": "code",
   "execution_count": 46,
   "metadata": {},
   "outputs": [
    {
     "data": {
      "text/plain": [
       "0.2893780444958925"
      ]
     },
     "execution_count": 46,
     "metadata": {},
     "output_type": "execute_result"
    }
   ],
   "source": [
    "mae"
   ]
  },
  {
   "cell_type": "markdown",
   "metadata": {},
   "source": [
    "#### Calculating the  Root mean square error"
   ]
  },
  {
   "cell_type": "code",
   "execution_count": 47,
   "metadata": {},
   "outputs": [],
   "source": [
    "rmse_test = np.sqrt(sum((test_comparison[\"ln_totalcard_spend\"] - test_comparison[\"predictions_test\"])**2)/ (test_comparison.shape[0]))"
   ]
  },
  {
   "cell_type": "code",
   "execution_count": 48,
   "metadata": {},
   "outputs": [
    {
     "data": {
      "text/plain": [
       "0.37116972856832925"
      ]
     },
     "execution_count": 48,
     "metadata": {},
     "output_type": "execute_result"
    }
   ],
   "source": [
    "rmse_test"
   ]
  },
  {
   "cell_type": "code",
   "execution_count": 49,
   "metadata": {},
   "outputs": [],
   "source": [
    "from sklearn import metrics"
   ]
  },
  {
   "cell_type": "code",
   "execution_count": 50,
   "metadata": {},
   "outputs": [
    {
     "data": {
      "text/plain": [
       "0.6855197122627676"
      ]
     },
     "execution_count": 50,
     "metadata": {},
     "output_type": "execute_result"
    }
   ],
   "source": [
    "metrics.r2_score(test_comparison[\"ln_totalcard_spend\"],test_comparison[\"predictions_test\"])"
   ]
  },
  {
   "cell_type": "code",
   "execution_count": 51,
   "metadata": {},
   "outputs": [
    {
     "data": {
      "text/plain": [
       "0.43851674542155333"
      ]
     },
     "execution_count": 51,
     "metadata": {},
     "output_type": "execute_result"
    }
   ],
   "source": [
    "var_test = test_comparison[\"ln_totalcard_spend\"].var()\n",
    "var_test"
   ]
  },
  {
   "cell_type": "code",
   "execution_count": 52,
   "metadata": {},
   "outputs": [],
   "source": [
    "mse = metrics.mean_squared_error(test_comparison[\"ln_totalcard_spend\"],test_comparison[\"predictions_test\"])"
   ]
  },
  {
   "cell_type": "code",
   "execution_count": 53,
   "metadata": {},
   "outputs": [
    {
     "data": {
      "text/plain": [
       "0.6858341925505045"
      ]
     },
     "execution_count": 53,
     "metadata": {},
     "output_type": "execute_result"
    }
   ],
   "source": [
    "Adj_rsquare = 1-(mse/var_test)\n",
    "Adj_rsquare"
   ]
  },
  {
   "cell_type": "markdown",
   "metadata": {},
   "source": [
    "- When applying the model on the Testing data set\n",
    "- R-squared:                       0.685\n",
    "- Adj. R-squared:                  0.685"
   ]
  },
  {
   "cell_type": "markdown",
   "metadata": {},
   "source": [
    "# Residual Check"
   ]
  },
  {
   "cell_type": "code",
   "execution_count": 54,
   "metadata": {},
   "outputs": [
    {
     "data": {
      "text/plain": [
       "<matplotlib.axes._subplots.AxesSubplot at 0xb9b35f8>"
      ]
     },
     "execution_count": 54,
     "metadata": {},
     "output_type": "execute_result"
    },
    {
     "data": {
      "image/png": "[encoded data removed]",
      "text/plain": [
       "<matplotlib.figure.Figure at 0xb7d6390>"
      ]
     },
     "metadata": {},
     "output_type": "display_data"
    }
   ],
   "source": [
    "pd.Series((test_comparison[\"ln_totalcard_spend\"] - test_comparison[\"predictions_test\"])).hist(bins=40)"
   ]
  },
  {
   "cell_type": "markdown",
   "metadata": {},
   "source": [
    "#### Residuals are normlly distributed"
   ]
  },
  {
   "cell_type": "markdown",
   "metadata": {},
   "source": [
    "# Residual Vs fitted plot"
   ]
  },
  {
   "cell_type": "code",
   "execution_count": 55,
   "metadata": {},
   "outputs": [
    {
     "data": {
      "text/plain": [
       "Text(0,0.5,'Residual')"
      ]
     },
     "execution_count": 55,
     "metadata": {},
     "output_type": "execute_result"
    },
    {
     "data": {
      "image/png": "[encoded data removed]",
      "text/plain": [
       "<matplotlib.figure.Figure at 0xb7dc2e8>"
      ]
     },
     "metadata": {},
     "output_type": "display_data"
    }
   ],
   "source": [
    "plt.scatter(test_comparison[\"predictions_test\"],(test_comparison[\"ln_totalcard_spend\"] - test_comparison[\"predictions_test\"]),marker='^')\n",
    "plt.xlabel(\"Fitted\")\n",
    "plt.ylabel(\"Residual\")"
   ]
  },
  {
   "cell_type": "markdown",
   "metadata": {},
   "source": [
    "#### Since there is no pattens in the error terms , so there is no non-linearity in data it has constant variance , homoskedacity"
   ]
  }
 ],
 "metadata": {
  "kernelspec": {
   "display_name": "Python 3",
   "language": "python",
   "name": "python3"
  },
  "language_info": {
   "codemirror_mode": {
    "name": "ipython",
    "version": 3
   },
   "file_extension": ".py",
   "mimetype": "text/x-python",
   "name": "python",
   "nbconvert_exporter": "python",
   "pygments_lexer": "ipython3",
   "version": "3.6.4"
  }
 },
 "nbformat": 4,
 "nbformat_minor": 2
}
